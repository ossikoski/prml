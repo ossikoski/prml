{
 "cells": [
  {
   "cell_type": "code",
   "execution_count": 24,
   "id": "cee37f55",
   "metadata": {},
   "outputs": [],
   "source": [
    "import csv\n",
    "import pickle\n",
    "\n",
    "import numpy as np\n",
    "import matplotlib.pyplot as plt\n",
    "from sklearn.model_selection import train_test_split\n",
    "from sklearn.neighbors import KNeighborsClassifier"
   ]
  },
  {
   "cell_type": "markdown",
   "id": "4c7bc3f3",
   "metadata": {},
   "source": [
    "### Load data"
   ]
  },
  {
   "cell_type": "code",
   "execution_count": 2,
   "id": "c022cfd9",
   "metadata": {},
   "outputs": [],
   "source": [
    "with open('./data/training_x.dat', 'rb') as pickleFile:\n",
    "     x_tr = pickle.load(pickleFile)\n",
    "with open('./data/training_y.dat', 'rb') as pickleFile:\n",
    "     y_tr = pickle.load(pickleFile)\n",
    "with open('./data/validation_x.dat', 'rb') as pickleFile:\n",
    "     x_val = pickle.load(pickleFile)"
   ]
  },
  {
   "cell_type": "markdown",
   "id": "1d6429c0",
   "metadata": {},
   "source": [
    "### Inspect data"
   ]
  },
  {
   "cell_type": "code",
   "execution_count": 71,
   "id": "c000646f",
   "metadata": {},
   "outputs": [
    {
     "name": "stdout",
     "output_type": "stream",
     "text": [
      "x_tr:\n",
      "<class 'list'>\n",
      "1281167\n",
      "(8, 8, 3)\n",
      "<class 'numpy.ndarray'>\n",
      "y_tr:\n",
      "<class 'list'>\n",
      "['1', '1', '1', '1', '1', '1', '1', '1', '1', '1']\n",
      "48238\n"
     ]
    }
   ],
   "source": [
    "print(\"x_tr:\")\n",
    "print(type(x_tr))\n",
    "print(len(x_tr))\n",
    "print(x_tr[0].shape)\n",
    "print(type(x_tr[0]))\n",
    "\n",
    "print(\"y_tr:\")\n",
    "print(type(y_tr))\n",
    "print(y_tr[0:10])\n",
    "\n",
    "num_imgs_tr = len(y_tr)\n",
    "num_imgs_val = len(x_val)\n",
    "print(num_imgs_val)"
   ]
  },
  {
   "cell_type": "markdown",
   "id": "af61af89",
   "metadata": {},
   "source": [
    "### Get 1000 images and reshape"
   ]
  },
  {
   "cell_type": "code",
   "execution_count": null,
   "id": "20600176",
   "metadata": {},
   "outputs": [],
   "source": [
    "x_tr_1000 = np.asarray(x_tr[0:1000]).reshape(1000, 64, 3)[:, :, 0]\n",
    "y_tr_1000 = np.asarray(y_tr[0:1000])\n",
    "x_val_1000 = np.asarray(x_val[0:1000]).reshape(1000, 64, 3)[:, :, 0]"
   ]
  },
  {
   "cell_type": "markdown",
   "id": "c386f9be",
   "metadata": {},
   "source": [
    "### Is data all allright?"
   ]
  },
  {
   "cell_type": "code",
   "execution_count": 4,
   "id": "3fe7c694",
   "metadata": {},
   "outputs": [
    {
     "name": "stdout",
     "output_type": "stream",
     "text": [
      "(8, 8, 3)\n"
     ]
    }
   ],
   "source": [
    "correct_shape = x_val[0].shape\n",
    "print(correct_shape)"
   ]
  },
  {
   "cell_type": "code",
   "execution_count": 5,
   "id": "9198c84f",
   "metadata": {},
   "outputs": [
    {
     "name": "stdout",
     "output_type": "stream",
     "text": [
      ":D 216805 in x_tr\n",
      "(8, 8, 4)\n"
     ]
    }
   ],
   "source": [
    "for i, data in enumerate(x_tr):\n",
    "    if data.shape != correct_shape:\n",
    "        print(\":D\", i, \"in x_tr\")\n",
    "        print(data.shape)\n",
    "        \n",
    "for i, data in enumerate(x_val):\n",
    "    if data.shape != correct_shape:\n",
    "        print(\":D\", i, \"in x_val\")\n",
    "        print(data.shape)"
   ]
  },
  {
   "cell_type": "markdown",
   "id": "2aa2d623",
   "metadata": {},
   "source": [
    "-> No, its not <br>\n",
    "-> Make it all allright"
   ]
  },
  {
   "cell_type": "code",
   "execution_count": 6,
   "id": "810e2353",
   "metadata": {},
   "outputs": [
    {
     "name": "stdout",
     "output_type": "stream",
     "text": [
      "(8, 8, 3)\n"
     ]
    }
   ],
   "source": [
    "x_tr[216805] = x_tr[216805][:, :, 0:3]\n",
    "print(x_tr[216805].shape)"
   ]
  },
  {
   "cell_type": "markdown",
   "id": "31a3a266",
   "metadata": {},
   "source": [
    "### Reshape all"
   ]
  },
  {
   "cell_type": "code",
   "execution_count": 7,
   "id": "92497331",
   "metadata": {},
   "outputs": [],
   "source": [
    "x_tr_reshaped = np.asarray(x_tr).reshape(num_imgs_tr, 64, 3)[:, :, 0]\n",
    "y_tr_reshaped = np.asarray(y_tr)\n",
    "x_val_reshaped = np.asarray(x_val).reshape(num_imgs_val, 64, 3)[:, :, 0]"
   ]
  },
  {
   "cell_type": "markdown",
   "id": "8f1cbe1f",
   "metadata": {},
   "source": [
    "### train test split"
   ]
  },
  {
   "cell_type": "code",
   "execution_count": 11,
   "id": "f8965032",
   "metadata": {},
   "outputs": [],
   "source": [
    "X_train, X_test, y_train, y_test = train_test_split(x_tr_reshaped, y_tr_reshaped, test_size=0.33, random_state=42)\n",
    "X_test_1000 = X_test[:1000]\n",
    "y_test_1000 = y_test[:1000]"
   ]
  },
  {
   "cell_type": "markdown",
   "id": "f9d587a4",
   "metadata": {},
   "source": [
    "### Fit and predict, cross validation"
   ]
  },
  {
   "cell_type": "code",
   "execution_count": 68,
   "id": "9b5696ed",
   "metadata": {},
   "outputs": [
    {
     "data": {
      "text/plain": [
       "KNeighborsClassifier()"
      ]
     },
     "execution_count": 68,
     "metadata": {},
     "output_type": "execute_result"
    }
   ],
   "source": [
    "model = KNeighborsClassifier(n_neighbors=5,algorithm='auto')\n",
    "model.fit(X_train, y_train)"
   ]
  },
  {
   "cell_type": "code",
   "execution_count": 69,
   "id": "ad468f0d",
   "metadata": {},
   "outputs": [],
   "source": [
    "y_pred_1000 = model.predict(X_test_1000)"
   ]
  },
  {
   "cell_type": "code",
   "execution_count": 17,
   "id": "ca98beb6",
   "metadata": {},
   "outputs": [],
   "source": [
    "def accuracy(prediction, validation):\n",
    "    correct = 0\n",
    "    for i, predicted in enumerate(prediction):\n",
    "        if predicted == validation[i]:\n",
    "            correct += 1\n",
    "            \n",
    "    return correct/len(prediction)"
   ]
  },
  {
   "cell_type": "code",
   "execution_count": 64,
   "id": "1fc0cef7",
   "metadata": {},
   "outputs": [
    {
     "name": "stdout",
     "output_type": "stream",
     "text": [
      "0.014\n"
     ]
    }
   ],
   "source": [
    "print(accuracy(y_pred_1000, y_test_1000))\n",
    "accuracies = [0.015, 0.013, 0.014, 0.014, 0.015, 0.012, 0.010, 0.011, 0.012, 0.011, 0.012]"
   ]
  },
  {
   "cell_type": "markdown",
   "id": "189ae061",
   "metadata": {},
   "source": [
    "### elbow chart"
   ]
  },
  {
   "cell_type": "code",
   "execution_count": 54,
   "id": "50a057e1",
   "metadata": {},
   "outputs": [
    {
     "data": {
      "text/plain": [
       "<matplotlib.collections.PathCollection at 0x1f7d2a62f70>"
      ]
     },
     "execution_count": 54,
     "metadata": {},
     "output_type": "execute_result"
    },
    {
     "data": {
      "image/png": "[encoded data removed]",
      "text/plain": [
       "<Figure size 432x288 with 1 Axes>"
      ]
     },
     "metadata": {
      "needs_background": "light"
     },
     "output_type": "display_data"
    }
   ],
   "source": [
    "plt.scatter(list(range(1, len(accuracies)+1)), accuracies)"
   ]
  },
  {
   "cell_type": "markdown",
   "id": "bd8998e3",
   "metadata": {},
   "source": [
    "### To csv"
   ]
  },
  {
   "cell_type": "code",
   "execution_count": 70,
   "id": "80dcc0c9",
   "metadata": {},
   "outputs": [],
   "source": [
    "with open('predictions01_1000.csv', 'w', newline='') as csvfile:\n",
    "    writer = csv.writer(csvfile, delimiter=',')\n",
    "    writer.writerow(['Id,Class'])\n",
    "    for i, predicted_class in enumerate(y_pred_1000):\n",
    "        writer.writerow([i+1, predicted_class])"
   ]
  }
 ],
 "metadata": {
  "kernelspec": {
   "display_name": "Python 3 (ipykernel)",
   "language": "python",
   "name": "python3"
  },
  "language_info": {
   "codemirror_mode": {
    "name": "ipython",
    "version": 3
   },
   "file_extension": ".py",
   "mimetype": "text/x-python",
   "name": "python",
   "nbconvert_exporter": "python",
   "pygments_lexer": "ipython3",
   "version": "3.9.7"
  }
 },
 "nbformat": 4,
 "nbformat_minor": 5
}
