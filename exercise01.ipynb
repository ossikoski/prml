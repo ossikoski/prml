{
 "cells": [
  {
   "cell_type": "code",
   "execution_count": 1,
   "id": "cee37f55",
   "metadata": {},
   "outputs": [],
   "source": [
    "import csv\n",
    "import pickle\n",
    "\n",
    "import numpy as np\n",
    "from sklearn.neighbors import KNeighborsClassifier"
   ]
  },
  {
   "cell_type": "markdown",
   "id": "4c7bc3f3",
   "metadata": {},
   "source": [
    "### Load data"
   ]
  },
  {
   "cell_type": "code",
   "execution_count": 2,
   "id": "c022cfd9",
   "metadata": {},
   "outputs": [],
   "source": [
    "with open('./data/training_x.dat', 'rb') as pickleFile:\n",
    "     x_tr = pickle.load(pickleFile)\n",
    "with open('./data/training_y.dat', 'rb') as pickleFile:\n",
    "     y_tr = pickle.load(pickleFile)\n",
    "with open('./data/validation_x.dat', 'rb') as pickleFile:\n",
    "     x_val = pickle.load(pickleFile)"
   ]
  },
  {
   "cell_type": "markdown",
   "id": "1d6429c0",
   "metadata": {},
   "source": [
    "### Inspect data"
   ]
  },
  {
   "cell_type": "code",
   "execution_count": null,
   "id": "c000646f",
   "metadata": {},
   "outputs": [],
   "source": [
    "print(\"x_tr:\")\n",
    "print(type(x_tr))\n",
    "print(len(x_tr))\n",
    "print(x_tr[0].shape)\n",
    "print(type(x_tr[0]))\n",
    "\n",
    "print(\"y_tr:\")\n",
    "print(type(y_tr))\n",
    "print(y_tr[0:10])\n",
    "\n",
    "num_imgs_tr = len(y_tr)\n",
    "num_imgs_val = len(x_val)"
   ]
  },
  {
   "cell_type": "markdown",
   "id": "af61af89",
   "metadata": {},
   "source": [
    "### Get 1000 images and reshape"
   ]
  },
  {
   "cell_type": "code",
   "execution_count": 3,
   "id": "20600176",
   "metadata": {},
   "outputs": [],
   "source": [
    "x_tr_1000 = np.asarray(x_tr[0:1000]).reshape(1000, 64, 3)[:, :, 0]\n",
    "y_tr_1000 = np.asarray(y_tr[0:1000])\n",
    "x_val_1000 = np.asarray(x_val[0:1000]).reshape(1000, 64, 3)[:, :, 0]"
   ]
  },
  {
   "cell_type": "markdown",
   "id": "ca06387c",
   "metadata": {},
   "source": [
    "### Fit and predict 1000"
   ]
  },
  {
   "cell_type": "code",
   "execution_count": 6,
   "id": "9b1e331d",
   "metadata": {},
   "outputs": [],
   "source": [
    "from sklearn.neighbors import KNeighborsClassifier\n",
    "\n",
    "model = KNeighborsClassifier(n_neighbors=5,algorithm='auto')\n",
    "model.fit(x_tr_1000, y_tr_1000)\n",
    "y_pred = model.predict(x_val_1000)"
   ]
  },
  {
   "cell_type": "markdown",
   "id": "c386f9be",
   "metadata": {},
   "source": [
    "### Is data all allright?"
   ]
  },
  {
   "cell_type": "code",
   "execution_count": null,
   "id": "3fe7c694",
   "metadata": {},
   "outputs": [],
   "source": [
    "correct_shape = x_val[0].shape\n",
    "print(correct_shape)"
   ]
  },
  {
   "cell_type": "code",
   "execution_count": null,
   "id": "9198c84f",
   "metadata": {},
   "outputs": [],
   "source": [
    "for i, data in enumerate(x_tr):\n",
    "    if data.shape != correct_shape:\n",
    "        print(\":D\", i, \"in x_tr\")\n",
    "        print(data.shape)\n",
    "        \n",
    "for i, data in enumerate(x_val):\n",
    "    if data.shape != correct_shape:\n",
    "        print(\":D\", i, \"in x_val\")\n",
    "        print(data.shape)"
   ]
  },
  {
   "cell_type": "markdown",
   "id": "2aa2d623",
   "metadata": {},
   "source": [
    "-> No, its not <br>\n",
    "-> Make it all allright"
   ]
  },
  {
   "cell_type": "code",
   "execution_count": null,
   "id": "810e2353",
   "metadata": {},
   "outputs": [],
   "source": [
    "x_tr[216805] = x_tr[216805][:, :, 0:3]\n",
    "print(x_tr[216805].shape)\n",
    "\n",
    "x_tr[216805] = x_tr[216805][:, :, 0:3]\n",
    "print(x_tr[216805].shape)"
   ]
  },
  {
   "cell_type": "markdown",
   "id": "31a3a266",
   "metadata": {},
   "source": [
    "### Reshape all"
   ]
  },
  {
   "cell_type": "code",
   "execution_count": null,
   "id": "92497331",
   "metadata": {},
   "outputs": [],
   "source": [
    "x_tr_reshaped = np.asarray(x_tr).reshape(num_imgs_tr, 64, 3)[:, :, 0]\n",
    "y_tr_reshaped = np.asarray(y_tr)\n",
    "x_val_reshaped = np.asarray(x_val).reshape(num_imgs_val, 64, 3)[:, :, 0]"
   ]
  },
  {
   "cell_type": "markdown",
   "id": "f9d587a4",
   "metadata": {},
   "source": [
    "### Fit and predict all"
   ]
  },
  {
   "cell_type": "code",
   "execution_count": null,
   "id": "9b5696ed",
   "metadata": {},
   "outputs": [],
   "source": [
    "model = KNeighborsClassifier(n_neighbors=1,algorithm='kd_tree')\n",
    "model.fit(x_tr_reshaped, y_tr_reshaped)\n",
    "y_pred = model.predict(x_val_reshaped)"
   ]
  },
  {
   "cell_type": "markdown",
   "id": "bd8998e3",
   "metadata": {},
   "source": [
    "### To csv"
   ]
  },
  {
   "cell_type": "code",
   "execution_count": null,
   "id": "80dcc0c9",
   "metadata": {},
   "outputs": [],
   "source": [
    "with open('predictions.csv', 'w', newline='') as csvfile:\n",
    "    writer = csv.writer(csvfile, delimiter=',')\n",
    "    writer.writerow(['Id,Class'])\n",
    "    for i, predicted_class in enumerate(y_pred):\n",
    "        writer.writerow([i+1, predicted_class])"
   ]
  }
 ],
 "metadata": {
  "kernelspec": {
   "display_name": "Python 3 (ipykernel)",
   "language": "python",
   "name": "python3"
  },
  "language_info": {
   "codemirror_mode": {
    "name": "ipython",
    "version": 3
   },
   "file_extension": ".py",
   "mimetype": "text/x-python",
   "name": "python",
   "nbconvert_exporter": "python",
   "pygments_lexer": "ipython3",
   "version": "3.9.7"
  }
 },
 "nbformat": 4,
 "nbformat_minor": 5
}
