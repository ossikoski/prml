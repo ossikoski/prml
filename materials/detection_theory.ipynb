{
 "cells": [
  {
   "cell_type": "markdown",
   "metadata": {},
   "source": [
    "# Detection Theory\n",
    "\n",
    "Detection is a problem that we often encounter in\n",
    "\n",
    "- Radar - airplane detection \n",
    "- Audio/Speech signal - detection of \"Hey Siri\"\n",
    "- Sonar - distance measurement\n",
    "- Computer vision - face/car/pedestrian detection and object tracking\n",
    "\n",
    "and many more, so it is beneficial to understand basics of detection theory.\n"
   ]
  },
  {
   "cell_type": "markdown",
   "metadata": {},
   "source": [
    "### Demo 1: Detecting AC signal"
   ]
  },
  {
   "cell_type": "markdown",
   "metadata": {},
   "source": [
    "Let's first generate a signal perturbed by noise."
   ]
  },
  {
   "cell_type": "code",
   "execution_count": null,
   "metadata": {},
   "outputs": [],
   "source": [
    "import numpy as np\n",
    "import matplotlib.pyplot as plt\n",
    "\n",
    "A = 1\n",
    "rand_samples = 50\n",
    "n = np.arange(rand_samples) # discrete times n=0,1,.., T*F_s-1\n",
    "sigma_w = np.sqrt(0.5) \n",
    "\n",
    "# noise only\n",
    "x_noise = sigma_w * np.random.randn(*n.shape)\n",
    "print(np.var(x_noise))\n",
    "\n",
    "# DC + noise\n",
    "x_dc = A*np.ones(n.shape)+sigma_w * np.random.randn(*n.shape)\n",
    "print(np.var(x_dc))\n",
    "\n",
    "#plt.plot(n,sigma_w * np.random.randn(*x.shape))\n",
    "plt.plot(x_noise,np.zeros(x_noise.shape),'x',label='noise only')\n",
    "plt.plot(x_dc, np.zeros(x_dc.shape),'x',label='w/ DC)')\n",
    "plt.legend()\n",
    "plt.show()"
   ]
  },
  {
   "cell_type": "code",
   "execution_count": null,
   "metadata": {},
   "outputs": [],
   "source": [
    "# Plot histograms to study overlap\n",
    "plt.hist(x_noise)\n",
    "plt.hist(x_dc)\n",
    "plt.show()"
   ]
  },
  {
   "cell_type": "markdown",
   "metadata": {},
   "source": [
    "### Demo 2: Averaging samples for DC detection"
   ]
  },
  {
   "cell_type": "code",
   "execution_count": null,
   "metadata": {},
   "outputs": [],
   "source": [
    "fig, axs = plt.subplots(3)\n",
    "\n",
    "\n",
    "for idx,N in enumerate([1,5,10]):\n",
    "\n",
    "    n = np.arange(rand_samples)\n",
    "    \n",
    "    # noise only\n",
    "    x_noise = sigma_w * np.random.randn(n.shape[0],N)\n",
    "\n",
    "    # DC + noise\n",
    "    x_dc = A*np.ones([n.shape[0],N])+sigma_w * np.random.randn(n.shape[0],N)\n",
    "    \n",
    "    x_noise = np.mean(x_noise,axis=1)\n",
    "    x_dc = np.mean(x_dc,axis=1)\n",
    "    print(f'mean (noise) {np.mean(x_noise):.4f} mean(dc) {np.mean(x_dc):.4f}')\n",
    "    print(f'var (noise) {np.var(x_noise):.4f} var(dc) {np.var(x_dc):.4f}')\n",
    "    \n",
    "    #axs[idx].plot(x_noise,np.zeros(x_noise.shape),'x',label=f'noise only')\n",
    "    #axs[idx].plot(x_dc, np.zeros(x_dc.shape),'x',label=f'w/ DC)')\n",
    "    axs[idx].hist(x_noise)\n",
    "    axs[idx].hist(x_dc)\n",
    "    axs[idx].set_xlim([-0.6, 1.5])\n",
    "\n",
    "plt.show()"
   ]
  },
  {
   "cell_type": "markdown",
   "metadata": {},
   "source": [
    "### Demo 3: Detection of a sine wave content\n",
    "Let's find when a specific sine wave is present in the measured signal."
   ]
  },
  {
   "cell_type": "code",
   "execution_count": null,
   "metadata": {},
   "outputs": [],
   "source": [
    "import IPython.display as ipd\n",
    "import numpy as np\n",
    "import matplotlib.pyplot as plt\n",
    "\n",
    "F_s = 512 # sample rate per second plot = 512\n",
    "T = 3    # total time in seconds\n",
    "n = np.arange(T * F_s) # discrete times n=0,1,.., T*F_s-1\n",
    "f = 8 # sin frequency 8 could for visualization and 128 for sonification\n",
    "sigma_w = 0.01 \n",
    "\n",
    "x = np.sin(2*np.pi*f*n/F_s)\n",
    "\n",
    "# some zeros at the beginning and end\n",
    "x[:F_s] = 0\n",
    "x[2*F_s:] = 0\n",
    "\n",
    "# add noise\n",
    "x_noisy = x+sigma_w * np.random.randn(*x.shape)\n",
    "\n",
    "#plt.plot(n,sigma_w * np.random.randn(*x.shape))\n",
    "plt.plot(n,x_noisy,'r-')\n",
    "plt.show()"
   ]
  },
  {
   "cell_type": "code",
   "execution_count": null,
   "metadata": {},
   "outputs": [],
   "source": [
    "# Play that sound (clean)\n",
    "ipd.Audio(x, rate=F_s, autoplay=True) # load a NumPy array"
   ]
  },
  {
   "cell_type": "code",
   "execution_count": null,
   "metadata": {},
   "outputs": [],
   "source": [
    "# Play that sound (noisy)\n",
    "ipd.Audio(x_noisy, rate=F_s, autoplay=True) # load a NumPy array"
   ]
  },
  {
   "cell_type": "markdown",
   "metadata": {},
   "source": [
    "## Convolution"
   ]
  },
  {
   "cell_type": "code",
   "execution_count": null,
   "metadata": {},
   "outputs": [],
   "source": [
    "print(np.convolve([1, 2, 3, 4], [0, 1, 0.5])) # aka 'full'\n",
    "print(np.convolve([1,2,3,4],[0,1,0.5], 'same'))\n",
    "print(np.convolve([1,2,3,4],[0,1,0.5], 'valid'))"
   ]
  },
  {
   "cell_type": "code",
   "execution_count": null,
   "metadata": {},
   "outputs": [],
   "source": [
    "L = 512 # Play with this value, i.e. filter lenght\n",
    "n = np.arange(L)\n",
    "h = np.sin(2*np.pi*f*n/F_s)\n",
    "#h = np.exp(-2 * np.pi * 1j * f * n / F_s)\n",
    "y = np.convolve(x, np.flip(h), 'same')\n",
    "plt.plot(y)\n",
    "plt.plot(np.abs(y),'g--')\n",
    "plt.title('When frequency and phase match')\n",
    "plt.show()"
   ]
  },
  {
   "cell_type": "code",
   "execution_count": null,
   "metadata": {},
   "outputs": [],
   "source": [
    "L = 512 # Play with this value, i.e. filter lenght\n",
    "n = np.arange(L)\n",
    "#h = np.sin(2*np.pi*f*n/F_s)\n",
    "h = np.exp(-2 * np.pi * 1j * f * n / F_s)\n",
    "y = np.convolve(x, np.flip(h), 'same')\n",
    "plt.plot(np.real(y),'b--')\n",
    "plt.plot(np.imag(y),'r--')\n",
    "plt.plot(np.abs(y),'g-')\n",
    "plt.title('When frequency matches')\n",
    "plt.legend(['Re','Im','Abs'])\n",
    "plt.show()"
   ]
  },
  {
   "cell_type": "markdown",
   "metadata": {},
   "source": [
    "### Demo: Visual Object Tracking"
   ]
  },
  {
   "cell_type": "markdown",
   "metadata": {},
   "source": [
    "### Demo: Face detection"
   ]
  },
  {
   "cell_type": "markdown",
   "metadata": {},
   "source": [
    "## References\n",
    "\n",
    "S.M. Kay (1998): Fundamentals of Statistical Signal Processing - Detection Theory, Vol. II, Chapters 1-3."
   ]
  }
 ],
 "metadata": {
  "anaconda-cloud": {},
  "kernelspec": {
   "display_name": "Python 3 (ipykernel)",
   "language": "python",
   "name": "python3"
  },
  "language_info": {
   "codemirror_mode": {
    "name": "ipython",
    "version": 3
   },
   "file_extension": ".py",
   "mimetype": "text/x-python",
   "name": "python",
   "nbconvert_exporter": "python",
   "pygments_lexer": "ipython3",
   "version": "3.9.6"
  }
 },
 "nbformat": 4,
 "nbformat_minor": 1
}
